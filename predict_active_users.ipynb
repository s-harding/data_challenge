{
 "cells": [
  {
   "cell_type": "markdown",
   "metadata": {},
   "source": [
    "# Predict active users based on first 5 days\n",
    "\n",
    "For this project I will attempt to do two things with a user's first five days of activity data on the app:\n",
    "1. predict if they will use a activation code (ie do more than just browse for free)\n",
    "2. predict the number of activation codes a user will use over the lifetime of this data set\n",
    "\n",
    "I intend to give a detailed walk through of my rationale and approach at the presentation.\n",
    "\n",
    "### Outline of approach\n",
    "\n",
    "The first steps I took were to build up the data set that I will use to train a neural network. The basis of this data set is the user_info table. The code activations table is used to determine who has used a code and how many codes each user has used (the two target variables for the two tasks).\n",
    "\n",
    "I used the questions sheet to get statistics on the question feature activity of each user in the first 5 days of use. The statistics derived are:\n",
    "- number of questions answered\n",
    "- percent of questions answered correctly\n",
    "- time spent on questions\n",
    "- number of distinct days the user used the questions feature (i.e. did they just do the questions on 1 day of the 5 or did they use it for all 5 etc.)\n",
    "\n",
    "These statistics are at the user level, so I could then join them back to the user_info table\n",
    "\n",
    "A similar aproach was also taken for the chapters read data. The following statistics were compiled for each user on the user's first 5 days of use:\n",
    "- number of chapters read\n",
    "- number of distinct days the user read at least one chapter\n",
    "\n",
    "Again these are at a user level and were joined to the user_info table.\n",
    "\n",
    "The various other categorical fields in the user_info table (signup device, marketing source etc) are were encoded so that they could be used appropriately in the model.\n",
    "\n",
    "The data is then split into training and testing sets.\n",
    "\n",
    "Neural networks were then defined: one for categorising whether or not a user would use and activation code and one for predicting the number of codes that would be used (regression). The models are trained on the training sets and validated onthe validation sets. "
   ]
  },
  {
   "cell_type": "markdown",
   "metadata": {},
   "source": [
    "#### Import libraries"
   ]
  },
  {
   "cell_type": "code",
   "execution_count": 1,
   "metadata": {},
   "outputs": [
    {
     "name": "stderr",
     "output_type": "stream",
     "text": [
      "Using TensorFlow backend.\n"
     ]
    }
   ],
   "source": [
    "import pandas as pd\n",
    "import numpy as np\n",
    "import datetime\n",
    "\n",
    "from sklearn.model_selection import train_test_split\n",
    "from sklearn.model_selection import cross_val_score\n",
    "\n",
    "from keras.models import Sequential\n",
    "from keras.layers import Dense, Dropout\n",
    "from keras.wrappers.scikit_learn import KerasClassifier\n",
    "from keras import optimizers\n",
    "from keras.utils import to_categorical\n",
    "\n",
    "import livelossplot"
   ]
  },
  {
   "cell_type": "markdown",
   "metadata": {},
   "source": [
    "#### Read data files"
   ]
  },
  {
   "cell_type": "code",
   "execution_count": 2,
   "metadata": {},
   "outputs": [],
   "source": [
    "user_info = pd.read_csv('assessment_data/user_info.csv')\n",
    "code_activations = pd.read_csv('assessment_data/code_activations.csv')\n",
    "chapters_read = pd.read_csv('assessment_data/chapters_read.csv')\n",
    "questions_read = pd.read_csv('assessment_data/questions_read.csv')"
   ]
  },
  {
   "cell_type": "markdown",
   "metadata": {},
   "source": [
    "#### Determine what users have used an activation code\n",
    "\n",
    "These will be our active users/users who have paid/redeem promotion code. They have actively engagend with the service."
   ]
  },
  {
   "cell_type": "code",
   "execution_count": 3,
   "metadata": {},
   "outputs": [],
   "source": [
    "min_act_date = code_activations.groupby(by='user_id', as_index=False).min()\n",
    "user_info = pd.merge(user_info, min_act_date, on = 'user_id', how='left')\n",
    "#user_info['diff_register_activate'] = (pd.to_datetime(user_info['code_activation']) - pd.to_datetime(user_info['register_date'])).dt.days\n",
    "user_info['active'] = np.where(pd.isnull(user_info['code_activation']), 0, 1)"
   ]
  },
  {
   "cell_type": "markdown",
   "metadata": {},
   "source": [
    "#### Find the number of codes used by each active user"
   ]
  },
  {
   "cell_type": "code",
   "execution_count": 4,
   "metadata": {},
   "outputs": [],
   "source": [
    "num_codes = code_activations.groupby(by='user_id', as_index=False).count()\n",
    "num_codes.rename(columns={'code_activation':'num_code_activations'}, inplace=True)"
   ]
  },
  {
   "cell_type": "markdown",
   "metadata": {},
   "source": [
    "#### Convert categorical variables to one-hot-encoded variables"
   ]
  },
  {
   "cell_type": "code",
   "execution_count": 5,
   "metadata": {},
   "outputs": [],
   "source": [
    "user_info = pd.get_dummies(user_info, prefix='country', columns=['country_id'])\n",
    "user_info = pd.get_dummies(user_info, prefix='exam', columns=['next_exam_type'])\n",
    "user_info = pd.get_dummies(user_info, prefix='marketing', columns=['marketing_source'])\n",
    "user_info = pd.get_dummies(user_info, prefix='device', columns=['signup_device'])\n",
    "user_info = pd.get_dummies(user_info, prefix='os', columns=['signup_os'])"
   ]
  },
  {
   "cell_type": "markdown",
   "metadata": {},
   "source": [
    "#### Get first 5 days of question activity for each user\n",
    "- number of questions answered\n",
    "- time spent on qustions\n",
    "- percent of questions answered correctly\n",
    "- number of days active in the 5 day period"
   ]
  },
  {
   "cell_type": "code",
   "execution_count": 6,
   "metadata": {},
   "outputs": [],
   "source": [
    "questions_read = pd.merge( questions_read, user_info[['user_id','register_date']], on = 'user_id', how='left')\n",
    "\n",
    "questions_read['diff_register_questread'] = (pd.to_datetime(questions_read['created_at']) - \n",
    "                                             pd.to_datetime(questions_read['register_date'])).dt.days\n",
    "\n",
    "qs_ans_fivedays = questions_read[questions_read['diff_register_questread']<5][['user_id','was_answer_correct']].groupby(by='user_id',\n",
    "                                                                                        as_index=False).count()\n",
    "qs_ans_fivedays.rename(columns={'was_answer_correct':'num_questions'}, inplace=True)"
   ]
  },
  {
   "cell_type": "code",
   "execution_count": 7,
   "metadata": {},
   "outputs": [],
   "source": [
    "time_on_qs = questions_read[questions_read['diff_register_questread']<5][['user_id','time_spent']].groupby(by='user_id',\n",
    "                                                                                        as_index=False).sum()"
   ]
  },
  {
   "cell_type": "code",
   "execution_count": 8,
   "metadata": {},
   "outputs": [],
   "source": [
    "perct_right = questions_read[questions_read['diff_register_questread']<5][['user_id','was_answer_correct']].groupby(by='user_id',\n",
    "                                                                                        as_index=False).mean()\n",
    "perct_right.rename(columns={'was_answer_correct':'perct_right'}, inplace=True)"
   ]
  },
  {
   "cell_type": "code",
   "execution_count": 9,
   "metadata": {},
   "outputs": [],
   "source": [
    "days_active = questions_read[questions_read['diff_register_questread']<5][['user_id','created_at']]\n",
    "days_active['created_at'] = pd.to_datetime(days_active['created_at']).dt.date\n",
    "days_active.drop_duplicates(inplace=True)\n",
    "days_active = days_active.groupby(by='user_id',as_index=False).count()\n",
    "days_active.rename(columns={'created_at':'days_answering'}, inplace=True)"
   ]
  },
  {
   "cell_type": "markdown",
   "metadata": {},
   "source": [
    "#### Get first 5 days of chapter activity\n",
    "\n",
    "- number of chapters read\n",
    "- number of days active in the 5 day period"
   ]
  },
  {
   "cell_type": "code",
   "execution_count": 10,
   "metadata": {},
   "outputs": [],
   "source": [
    "chapters_read = pd.merge(chapters_read, user_info[['user_id','register_date']], on = 'user_id', how='left')\n",
    "\n",
    "chapters_read['diff_register_read'] = (pd.to_datetime(chapters_read['created_at']) - \n",
    "                                       pd.to_datetime(chapters_read['register_date'])).dt.days\n",
    "\n",
    "chaps_read_fivedays = chapters_read[chapters_read['diff_register_read']<5][['user_id','chapter_id']].groupby(by='user_id',\n",
    "                                                                                        as_index=False).count()\n",
    "chaps_read_fivedays.rename(columns={'chapter_id':'num_chapters'}, inplace=True)"
   ]
  },
  {
   "cell_type": "code",
   "execution_count": 11,
   "metadata": {},
   "outputs": [],
   "source": [
    "days_active1 = chapters_read[chapters_read['diff_register_read']<5][['user_id','created_at']]\n",
    "days_active1['created_at'] = pd.to_datetime(days_active1['created_at']).dt.date\n",
    "days_active1.drop_duplicates(inplace=True)\n",
    "days_active1 = days_active1.groupby(by='user_id',as_index=False).count()\n",
    "days_active1.rename(columns={'created_at':'days_reading'}, inplace=True)"
   ]
  },
  {
   "cell_type": "markdown",
   "metadata": {},
   "source": [
    "#### Join this back to the user table"
   ]
  },
  {
   "cell_type": "code",
   "execution_count": 12,
   "metadata": {},
   "outputs": [],
   "source": [
    "user_info = pd.merge(user_info, qs_ans_fivedays, on = 'user_id', how='left')\n",
    "user_info = pd.merge(user_info, time_on_qs, on = 'user_id', how='left')\n",
    "user_info = pd.merge(user_info, perct_right, on = 'user_id', how='left')\n",
    "user_info = pd.merge(user_info, chaps_read_fivedays, on = 'user_id', how='left')\n",
    "user_info = pd.merge(user_info, days_active, on = 'user_id', how='left')\n",
    "user_info = pd.merge(user_info, days_active1, on = 'user_id', how='left')\n",
    "user_info = pd.merge(user_info, num_codes, on = 'user_id', how='left')\n",
    "\n",
    "\n",
    "user_info['num_questions'] = np.where(pd.isnull(user_info['num_questions']), 0, user_info['num_questions'])\n",
    "user_info['time_spent'] = np.where(pd.isnull(user_info['time_spent']), 0, user_info['time_spent'])\n",
    "user_info['perct_right'] = np.where(pd.isnull(user_info['perct_right']), 0, user_info['perct_right'])\n",
    "user_info['num_chapters'] = np.where(pd.isnull(user_info['num_chapters']), 0, user_info['num_chapters'])\n",
    "user_info['days_answering'] = np.where(pd.isnull(user_info['days_answering']), 0, user_info['days_answering'])\n",
    "user_info['days_reading'] = np.where(pd.isnull(user_info['days_reading']), 0, user_info['days_reading'])\n",
    "user_info['num_code_activations'] = np.where(pd.isnull(user_info['num_code_activations']), 0, user_info['num_code_activations'])"
   ]
  },
  {
   "cell_type": "code",
   "execution_count": 13,
   "metadata": {},
   "outputs": [
    {
     "data": {
      "text/plain": [
       "<matplotlib.axes._subplots.AxesSubplot at 0x7f39937e4dd8>"
      ]
     },
     "execution_count": 13,
     "metadata": {},
     "output_type": "execute_result"
    },
    {
     "data": {
      "image/png": "[encoded data removed]",
      "text/plain": [
       "<matplotlib.figure.Figure at 0x7f39937e4b38>"
      ]
     },
     "metadata": {},
     "output_type": "display_data"
    }
   ],
   "source": [
    "user_info['num_code_activations'].hist(bins=10)"
   ]
  },
  {
   "cell_type": "code",
   "execution_count": 14,
   "metadata": {},
   "outputs": [
    {
     "data": {
      "text/plain": [
       "count    43783.000000\n",
       "mean         0.125802\n",
       "std          0.402674\n",
       "min          0.000000\n",
       "50%          0.000000\n",
       "89%          0.000000\n",
       "90%          1.000000\n",
       "97%          1.000000\n",
       "99%          2.000000\n",
       "max          8.000000\n",
       "Name: num_code_activations, dtype: float64"
      ]
     },
     "execution_count": 14,
     "metadata": {},
     "output_type": "execute_result"
    }
   ],
   "source": [
    "user_info['num_code_activations'].describe(percentiles=[0.89,0.9,0.97,0.99])"
   ]
  },
  {
   "cell_type": "code",
   "execution_count": 15,
   "metadata": {},
   "outputs": [
    {
     "data": {
      "text/plain": [
       "0.10501792933330288"
      ]
     },
     "execution_count": 15,
     "metadata": {},
     "output_type": "execute_result"
    }
   ],
   "source": [
    "user_info['active'].mean()"
   ]
  },
  {
   "cell_type": "markdown",
   "metadata": {},
   "source": [
    "#### Drop columns that won't be used in the classification model"
   ]
  },
  {
   "cell_type": "code",
   "execution_count": 16,
   "metadata": {},
   "outputs": [],
   "source": [
    "active_user_classification = user_info.drop(columns=['register_date','user_id','code_activation','num_code_activations'],\n",
    "                                            axis=1)"
   ]
  },
  {
   "cell_type": "markdown",
   "metadata": {},
   "source": [
    "#### Split into test and train data for classification model"
   ]
  },
  {
   "cell_type": "code",
   "execution_count": 17,
   "metadata": {},
   "outputs": [],
   "source": [
    "train, test = train_test_split(active_user_classification, test_size=0.2, shuffle=True)\n",
    "\n",
    "X_train = train.drop(columns=['active'],axis=1)\n",
    "y_train = train['active']\n",
    "\n",
    "X_test = test.drop(columns=['active'],axis=1)\n",
    "y_test = test['active']\n",
    "\n",
    "X_train = X_train.values\n",
    "y_train = to_categorical(y_train)\n",
    "\n",
    "X_test = X_test.values\n",
    "y_test = to_categorical(y_test)"
   ]
  },
  {
   "cell_type": "markdown",
   "metadata": {},
   "source": [
    "#### Define neural network for classifying active users"
   ]
  },
  {
   "cell_type": "code",
   "execution_count": 18,
   "metadata": {},
   "outputs": [],
   "source": [
    "def baseline_model():\n",
    "    model = Sequential()\n",
    "    model.add(Dense(259,input_dim=259,activation='relu'))\n",
    "    model.add(Dense(1000,activation='tanh'))\n",
    "    #model.add(Dropout(0.05))\n",
    "    #model.add(Dense(100,activation='relu'))\n",
    "    #model.add(Dense(10,activation='relu'))\n",
    "    model.add(Dense(2,activation='softmax'))\n",
    "    rmsprop = optimizers.RMSprop(lr=0.00005)\n",
    "    model.compile(optimizer=rmsprop, loss='binary_crossentropy', metrics=['accuracy'])\n",
    "    return model\n",
    "\n",
    "net_model = baseline_model()\n",
    "\n",
    "#call plotting library so we can plot accuracy and loss\n",
    "plot_losses = livelossplot.PlotLossesKeras()"
   ]
  },
  {
   "cell_type": "markdown",
   "metadata": {},
   "source": [
    "#### Fit model and evaluate"
   ]
  },
  {
   "cell_type": "code",
   "execution_count": 19,
   "metadata": {},
   "outputs": [
    {
     "data": {
      "image/png": "[encoded data removed]",
      "text/plain": [
       "<matplotlib.figure.Figure at 0x7f3991e4e128>"
      ]
     },
     "metadata": {},
     "output_type": "display_data"
    },
    {
     "data": {
      "text/plain": [
       "<keras.callbacks.History at 0x7f3986251e48>"
      ]
     },
     "execution_count": 19,
     "metadata": {},
     "output_type": "execute_result"
    }
   ],
   "source": [
    "net_model.fit(X_train, y_train, epochs=15,\n",
    "              batch_size=100, class_weight='balanced',\n",
    "              callbacks=[plot_losses],\n",
    "              validation_data=(X_test, y_test)\n",
    "             )"
   ]
  },
  {
   "cell_type": "markdown",
   "metadata": {},
   "source": [
    "#### Drop columns to get the data set to be used to the number of code activations a user will use"
   ]
  },
  {
   "cell_type": "code",
   "execution_count": 20,
   "metadata": {},
   "outputs": [],
   "source": [
    "num_codes_pred_data = user_info.drop(columns=['register_date','user_id','code_activation','active'],\n",
    "                                            axis=1)"
   ]
  },
  {
   "cell_type": "markdown",
   "metadata": {},
   "source": [
    "#### Split into test and train sets for this regression problem"
   ]
  },
  {
   "cell_type": "code",
   "execution_count": 21,
   "metadata": {},
   "outputs": [],
   "source": [
    "train1, test1 = train_test_split(num_codes_pred_data, test_size=0.2, shuffle=True)\n",
    "\n",
    "X_train1 = train1.drop(columns=['num_code_activations'],axis=1)\n",
    "y_train1 = train1['num_code_activations']\n",
    "\n",
    "X_test1 = test1.drop(columns=['num_code_activations'],axis=1)\n",
    "y_test1 = test1['num_code_activations']\n",
    "\n",
    "X_train1 = X_train1.values\n",
    "\n",
    "X_test1 = X_test1.values"
   ]
  },
  {
   "cell_type": "markdown",
   "metadata": {},
   "source": [
    "#### Define neural network for regression problem"
   ]
  },
  {
   "cell_type": "code",
   "execution_count": 22,
   "metadata": {},
   "outputs": [],
   "source": [
    "def baseline_model1():\n",
    "    model = Sequential()\n",
    "    model.add(Dense(259,input_dim=259,activation='relu'))\n",
    "    #model.add(Dense(1000,activation='tanh'))\n",
    "    #model.add(Dropout(0.1))\n",
    "    model.add(Dense(100,activation='relu'))\n",
    "    #model.add(Dense(10,activation='relu'))\n",
    "    model.add(Dense(1,activation='relu'))\n",
    "    adam = optimizers.Adam(lr=0.00001)\n",
    "    model.compile(optimizer=adam, loss='mean_squared_error', metrics=['accuracy'])\n",
    "    return model\n",
    "\n",
    "net_model = baseline_model1()"
   ]
  },
  {
   "cell_type": "markdown",
   "metadata": {},
   "source": [
    "#### Fit and evaluate model"
   ]
  },
  {
   "cell_type": "code",
   "execution_count": 23,
   "metadata": {},
   "outputs": [
    {
     "data": {
      "image/png": "[encoded data removed]",
      "text/plain": [
       "<matplotlib.figure.Figure at 0x7f398a1326d8>"
      ]
     },
     "metadata": {},
     "output_type": "display_data"
    },
    {
     "data": {
      "text/plain": [
       "<keras.callbacks.History at 0x7f3991d7d5c0>"
      ]
     },
     "execution_count": 23,
     "metadata": {},
     "output_type": "execute_result"
    }
   ],
   "source": [
    "net_model.fit(X_train1, y_train1, epochs=15,\n",
    "              batch_size=100,\n",
    "              callbacks=[plot_losses],\n",
    "              validation_data=(X_test1, y_test1)\n",
    "             )"
   ]
  },
  {
   "cell_type": "markdown",
   "metadata": {},
   "source": [
    "### Results\n",
    "\n",
    "Unfortunately the results are inconclusive. 89% of the users are inactive, so guessing inactive on all the test set will mean that you are right 89% of the time to classify users. Likewise guessing 0 activation codes used will mean your right 89% too. So we want the model to improve on this accuracy. From the above we can see only a very minor improvement."
   ]
  },
  {
   "cell_type": "markdown",
   "metadata": {},
   "source": [
    "### Steps for improvement\n",
    "\n",
    "The steps I would take to try improve the model:\n",
    "\n",
    "- colloborate with key players (e.g. sales/marketing, subject matter experts, product partners etc.). This is vital for me, these are the people who know the product and how users interact with it best. A conversation with someone in the know makes for much faster progress and feedback cycles.\n",
    "\n",
    "- Based on above feedback reconsider approach and rebuild/improve where necessary.\n",
    "\n",
    "- Oversample data from the set of active users and use this to train the model. Currently we are working with a 10-90 split of active to inactive users. This combined with the fact that we are only considering 5 days of use data means that we have a relatively small set to work with. Oversampling will amplify characteristics of the active users and hopefully lead to better results.\n",
    "\n",
    "- Utilise the time spent reading chapters data. This is useful information but needs to be used correctly. As it is only populated for mobile devices, nearly half the values are NULL. It is important to handle these NULLs appropriately. There are a few possibilities:\n",
    "  1. set them to 0. Probably not a good option as it assumes no interaction\n",
    "  2. fill them with the user's average time reading other chapters (if the information exists)\n",
    "  3. fill them with the average time that chapter has been read (if the information exists)\n",
    "  4. assign a random time from the distribution of observed times (probably the best option I think)\n",
    "  \n",
    "- One-hot-encode the chapters read column and use that as a predictor (I tried this but since there are over 2,000 chapters the additional columns significantly slowed my poor computer so I ended up not using it! :( )\n",
    "\n",
    "- Define testing methodologies and implement a logging system to track performance of recommendations. Give constant feedback to stakeholders."
   ]
  },
  {
   "cell_type": "markdown",
   "metadata": {},
   "source": [
    "#### Notes on choice of tools\n",
    "\n",
    "- I chose jupyter notebooks for this challenge because I think it is very good for doing quick analysis with unfamiliar data as it lets you see results immediatley and allows for things to be moved around and changed easily. It is also very useful and looks well for presenting and sharing code in an approachable way with with how you can embed well formatted comments.\n",
    "\n",
    "- I chose Keras for a few reasons. As it is a wrapper around tensor flow it gives all the power of tf while being easy to use and read (which I think is important when sharing code)."
   ]
  },
  {
   "cell_type": "code",
   "execution_count": null,
   "metadata": {},
   "outputs": [],
   "source": []
  }
 ],
 "metadata": {
  "kernelspec": {
   "display_name": "Python 3",
   "language": "python",
   "name": "python3"
  },
  "language_info": {
   "codemirror_mode": {
    "name": "ipython",
    "version": 3
   },
   "file_extension": ".py",
   "mimetype": "text/x-python",
   "name": "python",
   "nbconvert_exporter": "python",
   "pygments_lexer": "ipython3",
   "version": "3.5.2"
  }
 },
 "nbformat": 4,
 "nbformat_minor": 2
}
